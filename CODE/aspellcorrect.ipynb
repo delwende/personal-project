{
 "cells": [
  {
   "cell_type": "code",
   "execution_count": 1,
   "metadata": {},
   "outputs": [],
   "source": [
    "import aspell\n",
    "import re\n",
    "from numpy import zeros as np_zeros\n",
    "\n",
    "from collections import Counter\n",
    "\n",
    "from numpy.random import seed as random_seed\n",
    "from numpy.random import randint as random_randint\n",
    "from numpy.random import choice as random_choice\n",
    "from numpy.random import randint as random_randint\n",
    "from numpy.random import shuffle as random_shuffle\n",
    "from numpy.random import rand\n",
    "from collections import Counter\n",
    "amount_of_noise=0.2/60\n",
    "MAX_INPUT_LEN=60\n",
    "CHARS = list(\"abcdefghijklmnopqrstuvwxyzABCDEFGHIJKLMNOPQRSTUVWXYZ .\")\n",
    "s=aspell.Speller('lang','en')"
   ]
  },
  {
   "cell_type": "code",
   "execution_count": 2,
   "metadata": {},
   "outputs": [],
   "source": [
    "\n",
    "def words(text): return re.findall(r'\\w+', text.lower())\n",
    "\n",
    "WORDS = Counter(words(open('data\\\\big.txt').read()))\n",
    "\n",
    "def P(word, N=sum(WORDS.values())): \n",
    "    \"Probability of `word`.\"\n",
    "    return WORDS[word]\n",
    "\n",
    "def correction(word): \n",
    "    \"Most probable spelling correction for word.\"\n",
    "    return max(word, key=P)\n"
   ]
  },
  {
   "cell_type": "code",
   "execution_count": 3,
   "metadata": {},
   "outputs": [],
   "source": [
    "    def add_noise_to_string( a_string, amount_of_noise):\n",
    "        \"\"\"Add some artificial spelling mistakes to the string\"\"\"\n",
    "        if rand() < amount_of_noise * len(a_string):\n",
    "            # Replace a character with a random character\n",
    "            random_char_position = random_randint(len(a_string))\n",
    "            a_string = a_string[:random_char_position] + random_choice(CHARS[:-1]) + a_string[random_char_position + 1:]\n",
    "        if rand() < amount_of_noise * len(a_string):\n",
    "            # Delete a character\n",
    "            random_char_position = random_randint(len(a_string))\n",
    "            a_string = a_string[:random_char_position] + a_string[random_char_position + 1:]\n",
    "        if len(a_string) < MAX_INPUT_LEN and rand() < amount_of_noise * len(a_string):\n",
    "            # Add a random character\n",
    "            random_char_position = random_randint(len(a_string))\n",
    "            a_string = a_string[:random_char_position] + random_choice(CHARS[:-1]) + a_string[random_char_position:]\n",
    "        return a_string"
   ]
  },
  {
   "cell_type": "code",
   "execution_count": 9,
   "metadata": {},
   "outputs": [],
   "source": [
    "def words1(text): return re.findall(r'\\w+',text)"
   ]
  },
  {
   "cell_type": "code",
   "execution_count": 10,
   "metadata": {},
   "outputs": [],
   "source": [
    "from collections import Counter\n",
    "amount_of_noise=0.005\n",
    "def words(text): return re.findall(r'\\w+', text.lower())\n",
    "\n",
    "WORDS = Counter(words(open('data\\\\big.txt').read()))\n",
    "\n",
    "def P(word, N=sum(WORDS.values())): \n",
    "    \"Probability of `word`.\"\n",
    "    return WORDS[word]"
   ]
  },
  {
   "cell_type": "code",
   "execution_count": 21,
   "metadata": {},
   "outputs": [],
   "source": [
    "def readline(filename):\n",
    "    f = open(filename,'r')\n",
    "    with open(\"data\\\\questionOuputfile.txt\",\"w\") as writeto:\n",
    "        lines=f.readlines()\n",
    "        for line in lines:\n",
    "            line=add_noise_to_string(line,amount_of_noise)\n",
    "            \n",
    "            #line=words1(line)#line.replace(\".\",\"\").replace(\"(\",\"\").\n",
    "            line=line.split(\" \")\n",
    "            for i in range(len(line)):\n",
    "                suggestions=s.suggest(line[i])\n",
    "                if suggestions:\n",
    "                    line[i]=suggestions[0]\n",
    "                #print (line[0])\n",
    "                #max(suggestion,key=P)\n",
    "            writeto.write(\" \".join(line))\n",
    "            #writeto.write(\"\\n\")\n",
    "\n"
   ]
  },
  {
   "cell_type": "code",
   "execution_count": 23,
   "metadata": {},
   "outputs": [],
   "source": [
    "readline(\"train\\\\trainfile.txt\")"
   ]
  }
 ],
 "metadata": {
  "kernelspec": {
   "display_name": "Python 3",
   "language": "python",
   "name": "python3"
  },
  "language_info": {
   "codemirror_mode": {
    "name": "ipython",
    "version": 3
   },
   "file_extension": ".py",
   "mimetype": "text/x-python",
   "name": "python",
   "nbconvert_exporter": "python",
   "pygments_lexer": "ipython3",
   "version": "3.6.4"
  }
 },
 "nbformat": 4,
 "nbformat_minor": 2
}
